{
 "cells": [
  {
   "cell_type": "code",
   "execution_count": 6,
   "metadata": {},
   "outputs": [],
   "source": [
    "import logging\n",
    "\n",
    "### debug\n",
    "### info               ---->>>>>  this is an hierarchy\n",
    "### warning\n",
    "### Error\n",
    "### critical"
   ]
  },
  {
   "cell_type": "code",
   "execution_count": 3,
   "metadata": {},
   "outputs": [],
   "source": [
    "logging.basicConfig(level=logging.ERROR)"
   ]
  },
  {
   "cell_type": "code",
   "execution_count": 4,
   "metadata": {},
   "outputs": [
    {
     "name": "stderr",
     "output_type": "stream",
     "text": [
      "ERROR:root:This is the error MSG\n",
      "CRITICAL:root:LOG Critical MSG\n"
     ]
    }
   ],
   "source": [
    "logging.log(logging.DEBUG, \"LOG DEBUG MSG\")\n",
    "logging.log(logging.INFO, \"LOG Info MSG\")\n",
    "logging.log(logging.WARNING, \"LOG Warning MSG\")\n",
    "logging.log(logging.ERROR, \"This is the error MSG\")\n",
    "logging.log(logging.CRITICAL, \"LOG Critical MSG\")"
   ]
  },
  {
   "cell_type": "code",
   "execution_count": 8,
   "metadata": {},
   "outputs": [
    {
     "name": "stderr",
     "output_type": "stream",
     "text": [
      "CRITICAL:Mylogs:abcsd\n",
      "ERROR:Currlogs:Error in curr\n"
     ]
    }
   ],
   "source": [
    "import logging\n",
    "\n",
    "logging.basicConfig(level=logging.ERROR)\n",
    "\n",
    "#### create the name for logger\n",
    "\n",
    "logger = logging.getLogger(\"Mylogs\")\n",
    "logger.info(\"This is just information of the process\")\n",
    "logger.critical(\"abcsd\")\n",
    "\n",
    "logger1 = logging.getLogger(\"Currlogs\")\n",
    "logger1.error(\"Error in curr\")"
   ]
  },
  {
   "cell_type": "code",
   "execution_count": null,
   "metadata": {},
   "outputs": [],
   "source": []
  },
  {
   "cell_type": "code",
   "execution_count": null,
   "metadata": {},
   "outputs": [],
   "source": []
  },
  {
   "cell_type": "code",
   "execution_count": null,
   "metadata": {},
   "outputs": [],
   "source": []
  },
  {
   "cell_type": "code",
   "execution_count": null,
   "metadata": {},
   "outputs": [],
   "source": []
  },
  {
   "cell_type": "code",
   "execution_count": null,
   "metadata": {},
   "outputs": [],
   "source": []
  },
  {
   "cell_type": "code",
   "execution_count": null,
   "metadata": {},
   "outputs": [],
   "source": []
  }
 ],
 "metadata": {
  "kernelspec": {
   "display_name": "Python 3",
   "language": "python",
   "name": "python3"
  },
  "language_info": {
   "codemirror_mode": {
    "name": "ipython",
    "version": 3
   },
   "file_extension": ".py",
   "mimetype": "text/x-python",
   "name": "python",
   "nbconvert_exporter": "python",
   "pygments_lexer": "ipython3",
   "version": "3.13.1"
  }
 },
 "nbformat": 4,
 "nbformat_minor": 2
}
