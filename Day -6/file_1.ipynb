{
 "cells": [
  {
   "cell_type": "markdown",
   "metadata": {},
   "source": [
    "#### 6.\tCreate a logic to segregate folders based on file size. Make 3 folders small size, middle size , large size folder and transfer the files to respective folders"
   ]
  },
  {
   "cell_type": "code",
   "execution_count": 1,
   "metadata": {},
   "outputs": [],
   "source": [
    "import os\n",
    "import shutil\n",
    "import sys"
   ]
  },
  {
   "cell_type": "code",
   "execution_count": 6,
   "metadata": {},
   "outputs": [],
   "source": [
    "def file_move(folder):\n",
    "    try:\n",
    "        for i in os.listdir(folder):\n",
    "            temp = os.stat(i).st_size/1000\n",
    "            if temp <= 0.15:\n",
    "                shutil.copy(i,\"D:\\\\Bizmetric\\\\vikrant1\")\n",
    "            elif temp > 0.15 or os.stat(i).st_size/1000 <0.25:\n",
    "               shutil.copy(i,\"D:\\\\Bizmetric\\\\vikrant2\")\n",
    "            elif temp > 0.25:\n",
    "                shutil.copy(i,\"D:\\\\Bizmetric\\\\vikrant3\")\n",
    "\n",
    "    except:\n",
    "        print(sys.exc_info())\n",
    "\n",
    "                \n",
    "\n"
   ]
  },
  {
   "cell_type": "code",
   "execution_count": 7,
   "metadata": {},
   "outputs": [],
   "source": [
    "folder = \"D:\\\\Bizmetric\\\\Vikrant\""
   ]
  },
  {
   "cell_type": "code",
   "execution_count": 8,
   "metadata": {},
   "outputs": [
    {
     "name": "stdout",
     "output_type": "stream",
     "text": [
      "(<class 'FileNotFoundError'>, FileNotFoundError(2, 'The system cannot find the file specified'), <traceback object at 0x0000029D1C662BC0>)\n"
     ]
    }
   ],
   "source": [
    "sz = file_move(folder)"
   ]
  },
  {
   "cell_type": "code",
   "execution_count": 5,
   "metadata": {},
   "outputs": [
    {
     "name": "stdout",
     "output_type": "stream",
     "text": [
      "D:\\Bizmetric\\Vikrant\\abc_d.txt 0.13 kb\n",
      "D:\\Bizmetric\\Vikrant\\ab_d.txt 0.077 kb\n",
      "D:\\Bizmetric\\Vikrant\\as.jpg 14.044 kb\n",
      "D:\\Bizmetric\\Vikrant\\file_handling.ipynb 0.0 kb\n",
      "D:\\Bizmetric\\Vikrant\\first.txt 0.154 kb\n"
     ]
    }
   ],
   "source": [
    "\n",
    "for i in os.listdir(\"D:\\\\Bizmetric\\\\Vikrant\"):\n",
    "    filename = \"D:\\\\Bizmetric\\\\Vikrant\\\\\" + i\n",
    "    # print(filename)\n",
    "    sz = os.stat(filename).st_size/1000\n",
    "\n",
    "    print(filename, sz,\"kb\")"
   ]
  },
  {
   "cell_type": "code",
   "execution_count": 8,
   "metadata": {},
   "outputs": [
    {
     "data": {
      "text/plain": [
       "'D:\\\\Bizmetric\\\\Day -5\\\\abc_d.txt'"
      ]
     },
     "execution_count": 8,
     "metadata": {},
     "output_type": "execute_result"
    }
   ],
   "source": [
    "shutil.copy(\"D:\\\\Bizmetric\\\\Day -6\\\\abc_d.txt\", \"D:\\\\Bizmetric\\\\Day -5\")"
   ]
  },
  {
   "cell_type": "code",
   "execution_count": 4,
   "metadata": {},
   "outputs": [
    {
     "ename": "FileNotFoundError",
     "evalue": "[WinError 2] The system cannot find the file specified: 'bill.ipynb'",
     "output_type": "error",
     "traceback": [
      "\u001b[1;31m---------------------------------------------------------------------------\u001b[0m",
      "\u001b[1;31mFileNotFoundError\u001b[0m                         Traceback (most recent call last)",
      "Cell \u001b[1;32mIn[4], line 2\u001b[0m\n\u001b[0;32m      1\u001b[0m \u001b[38;5;28;01mfor\u001b[39;00m i \u001b[38;5;129;01min\u001b[39;00m os\u001b[38;5;241m.\u001b[39mlistdir(\u001b[38;5;124mr\u001b[39m\u001b[38;5;124m'\u001b[39m\u001b[38;5;124mC:\u001b[39m\u001b[38;5;124m\\\u001b[39m\u001b[38;5;124mUsers\u001b[39m\u001b[38;5;124m\\\u001b[39m\u001b[38;5;124mLenovo\u001b[39m\u001b[38;5;124m\\\u001b[39m\u001b[38;5;124mOneDrive\u001b[39m\u001b[38;5;124m\\\u001b[39m\u001b[38;5;124mDesktop\u001b[39m\u001b[38;5;124m\\\u001b[39m\u001b[38;5;124msample\u001b[39m\u001b[38;5;124m'\u001b[39m):\n\u001b[1;32m----> 2\u001b[0m     \u001b[38;5;28mprint\u001b[39m(i,\u001b[43mos\u001b[49m\u001b[38;5;241;43m.\u001b[39;49m\u001b[43mstat\u001b[49m\u001b[43m(\u001b[49m\u001b[43mi\u001b[49m\u001b[43m)\u001b[49m\u001b[38;5;241m.\u001b[39mst_size\u001b[38;5;241m/\u001b[39m\u001b[38;5;241m100\u001b[39m)\n",
      "\u001b[1;31mFileNotFoundError\u001b[0m: [WinError 2] The system cannot find the file specified: 'bill.ipynb'"
     ]
    }
   ],
   "source": []
  }
 ],
 "metadata": {
  "kernelspec": {
   "display_name": "Python 3",
   "language": "python",
   "name": "python3"
  },
  "language_info": {
   "codemirror_mode": {
    "name": "ipython",
    "version": 3
   },
   "file_extension": ".py",
   "mimetype": "text/x-python",
   "name": "python",
   "nbconvert_exporter": "python",
   "pygments_lexer": "ipython3",
   "version": "3.13.1"
  }
 },
 "nbformat": 4,
 "nbformat_minor": 2
}
