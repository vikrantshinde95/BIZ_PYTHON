{
 "cells": [
  {
   "cell_type": "code",
   "execution_count": 4,
   "metadata": {},
   "outputs": [],
   "source": [
    "### validation of name, mobile, 10th marks\n",
    "import sys\n",
    "def val_name(a):\n",
    "  try:\n",
    "    if a.isalpha():\n",
    "      message = \"VALID\"\n",
    "      flag = True\n",
    "\n",
    "    else:\n",
    "      flag = False\n",
    "      print(\"INVALID\")\n",
    "      raise Exception(\"NOT valid\")\n",
    "  except:\n",
    "    message = sys.exc_info()[1]\n",
    "\n",
    "  return flag, message\n",
    "\n",
    "def val_mobile(b):\n",
    "  try:\n",
    "    if len(b)==10 and b.isdigit():\n",
    "      message = \"VALID\"\n",
    "      flag=True\n",
    "    else:\n",
    "      flag=False\n",
    "      print(\"INVALID\")\n",
    "      raise Exception(\"NOT valid\")\n",
    "  except:\n",
    "    message = sys.exc_info()[1]\n",
    "  return flag, message\n"
   ]
  },
  {
   "cell_type": "code",
   "execution_count": 5,
   "metadata": {},
   "outputs": [
    {
     "name": "stdout",
     "output_type": "stream",
     "text": [
      "INVALID\n"
     ]
    }
   ],
   "source": [
    "with open('LOG_NEW.log','w') as f:\n",
    "  name=input(\"enter name\")\n",
    "  val_name(name)\n",
    "  f.write(\"Name validation done \")\n",
    "  mobile=input(\"enter mobile\")\n",
    "  val_mobile(mobile)\n",
    "  f.write(\"mobile validation done \")"
   ]
  },
  {
   "cell_type": "code",
   "execution_count": 6,
   "metadata": {},
   "outputs": [
    {
     "name": "stdout",
     "output_type": "stream",
     "text": [
      "loginpage\n"
     ]
    },
    {
     "name": "stderr",
     "output_type": "stream",
     "text": [
      "INFO:Mylogs:Name entered by\n",
      "INFO:Mylogs:VALID\n",
      "CRITICAL:Mylogs:in the critical zone\n",
      "WARNING:Mylogs:warn the coder\n"
     ]
    }
   ],
   "source": [
    "import logging\n",
    "\n",
    "logging.basicConfig(level=logging.INFO)\n",
    "\n",
    "### create the name for logger\n",
    "\n",
    "logger = logging.getLogger(\"Mylogs\")\n",
    "\n",
    "gen_log_file = logging.FileHandler('sample.log')\n",
    "gen_log_file.setLevel(logging.WARNING)\n",
    "\n",
    "logger.addHandler(gen_log_file)\n",
    "\n",
    "\n",
    "print(\"loginpage\")\n",
    "name=input(\"enter name\")\n",
    "logger.info(\"Name entered by\")\n",
    "if val_name(name)[0] == True:\n",
    "  logger.info(val_name(name)[1])\n",
    "else:\n",
    "  logger.error('horrible error')\n",
    "\n",
    "logger.debug('This is the debug message')\n",
    "logger.critical('in the critical zone')\n",
    "\n",
    "logger.warning(\"warn the coder\")\n"
   ]
  },
  {
   "cell_type": "code",
   "execution_count": null,
   "metadata": {},
   "outputs": [],
   "source": []
  },
  {
   "cell_type": "markdown",
   "metadata": {},
   "source": [
    "#### Method - 2"
   ]
  },
  {
   "cell_type": "code",
   "execution_count": 3,
   "metadata": {},
   "outputs": [
    {
     "name": "stdout",
     "output_type": "stream",
     "text": [
      "Login Page\n"
     ]
    },
    {
     "name": "stderr",
     "output_type": "stream",
     "text": [
      "INFO:Mylogs:Name entered by :\n",
      "INFO:Mylogs:valid\n"
     ]
    }
   ],
   "source": [
    "import logging\n",
    "\n",
    "logging.basicConfig(level=logging.INFO)\n",
    "\n",
    "### create name of logger\n",
    "\n",
    "logger = logging.getLogger(\"Mylogs\")\n",
    "\n",
    "gen_log_file = logging.FileHandler(\"LOG_NEW.log\")\n",
    "gen_log_file.setLevel(logging.DEBUG)\n",
    "\n",
    "logger.addHandler(gen_log_file)\n",
    "\n",
    "print(\"Login Page\")\n",
    "name = input(\"Enter Name\")\n",
    "logger.info(\"Name entered by :\")\n",
    "\n",
    "\n",
    "if name.isalpha():\n",
    "    logger.info(\"valid\")\n",
    "else:\n",
    "    logger.info(\"invalid\")\n",
    "\n",
    "# logger.debug('This is the debug message')\n",
    "# logger.critical('in the critical zone')\n",
    "\n",
    "# logger.warning(\"warn the coder\")\n",
    "\n"
   ]
  },
  {
   "cell_type": "code",
   "execution_count": null,
   "metadata": {},
   "outputs": [],
   "source": []
  },
  {
   "cell_type": "code",
   "execution_count": null,
   "metadata": {},
   "outputs": [],
   "source": []
  },
  {
   "cell_type": "code",
   "execution_count": null,
   "metadata": {},
   "outputs": [],
   "source": []
  },
  {
   "cell_type": "code",
   "execution_count": null,
   "metadata": {},
   "outputs": [],
   "source": []
  },
  {
   "cell_type": "code",
   "execution_count": null,
   "metadata": {},
   "outputs": [],
   "source": []
  }
 ],
 "metadata": {
  "kernelspec": {
   "display_name": "Python 3",
   "language": "python",
   "name": "python3"
  },
  "language_info": {
   "codemirror_mode": {
    "name": "ipython",
    "version": 3
   },
   "file_extension": ".py",
   "mimetype": "text/x-python",
   "name": "python",
   "nbconvert_exporter": "python",
   "pygments_lexer": "ipython3",
   "version": "3.13.1"
  }
 },
 "nbformat": 4,
 "nbformat_minor": 2
}
