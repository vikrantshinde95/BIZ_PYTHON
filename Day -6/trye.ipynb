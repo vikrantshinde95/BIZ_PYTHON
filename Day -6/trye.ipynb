{
 "cells": [
  {
   "cell_type": "markdown",
   "metadata": {},
   "source": [
    "### 7.Create a logic to segregate folders based on file size. Make 3 folders small size, middle size, large size folder and transfer the files to respective folders"
   ]
  },
  {
   "cell_type": "code",
   "execution_count": 1,
   "metadata": {},
   "outputs": [],
   "source": [
    "import os\n",
    "import shutil\n",
    "import sys"
   ]
  },
  {
   "cell_type": "code",
   "execution_count": 11,
   "metadata": {},
   "outputs": [],
   "source": [
    "def file_move(folder):\n",
    "    try:\n",
    "        for i in os.listdir(folder):\n",
    "            temp = os.stat(i).st_size/1000\n",
    "            if temp <= 0.15:\n",
    "                shutil.copy(i,r\"C:\\Users\\Lenovo\\OneDrive\\Desktop\\vicky1\")\n",
    "            elif temp > 0.15 or os.stat(i).st_size/1000 <0.25:\n",
    "               shutil.copy(i,r\"C:\\Users\\Lenovo\\OneDrive\\Desktop\\vicky2\")\n",
    "            elif temp > 0.25:\n",
    "                shutil.copy(i,r\"C:\\Users\\Lenovo\\OneDrive\\Desktop\\vicky3\")\n",
    "\n",
    "    except:\n",
    "        print(sys.exc_info())"
   ]
  },
  {
   "cell_type": "code",
   "execution_count": 12,
   "metadata": {},
   "outputs": [],
   "source": [
    "folder = \"C:\\\\Users\\\\Lenovo\\\\OneDrive\\\\Desktop\\\\sample\""
   ]
  },
  {
   "cell_type": "code",
   "execution_count": 13,
   "metadata": {},
   "outputs": [
    {
     "name": "stdout",
     "output_type": "stream",
     "text": [
      "(<class 'FileNotFoundError'>, FileNotFoundError(2, 'The system cannot find the file specified'), <traceback object at 0x000001D329FD7E40>)\n"
     ]
    }
   ],
   "source": [
    "sz = file_move(folder)"
   ]
  },
  {
   "cell_type": "code",
   "execution_count": 7,
   "metadata": {},
   "outputs": [
    {
     "data": {
      "text/plain": [
       "'D:\\\\Bizmetric\\\\vikrant1\\\\bill_new.ipynb'"
      ]
     },
     "execution_count": 7,
     "metadata": {},
     "output_type": "execute_result"
    }
   ],
   "source": [
    "shutil.copy(\"C:\\\\Users\\\\Lenovo\\\\OneDrive\\\\Desktop\\\\sample\\\\bill_new.ipynb\",\"D:\\\\Bizmetric\\\\vikrant1\")"
   ]
  }
 ],
 "metadata": {
  "kernelspec": {
   "display_name": "Python 3",
   "language": "python",
   "name": "python3"
  },
  "language_info": {
   "codemirror_mode": {
    "name": "ipython",
    "version": 3
   },
   "file_extension": ".py",
   "mimetype": "text/x-python",
   "name": "python",
   "nbconvert_exporter": "python",
   "pygments_lexer": "ipython3",
   "version": "3.13.1"
  }
 },
 "nbformat": 4,
 "nbformat_minor": 2
}
