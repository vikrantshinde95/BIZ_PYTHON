{
 "cells": [
  {
   "cell_type": "markdown",
   "metadata": {},
   "source": [
    "# Program to ask items from user and quantity and print finall bill with it"
   ]
  },
  {
   "cell_type": "markdown",
   "metadata": {},
   "source": [
    "# METHOD -1"
   ]
  },
  {
   "cell_type": "code",
   "execution_count": 8,
   "metadata": {},
   "outputs": [
    {
     "name": "stdout",
     "output_type": "stream",
     "text": [
      "------------------------------\n",
      "Welcome to my restaurent\n",
      "------------------------------\n",
      "Pohe            2               $ 50             \n",
      "Meduvada        3               $ 80             \n",
      "Idli            7               $ 100            \n",
      "------------------------------\n",
      "total                           $ 1040\n",
      "------------------------------\n"
     ]
    }
   ],
   "source": [
    "Menu = {\"Idli\":100, \"Pohe\":50 ,\"Dosa\":70 ,\"Meduvada\":80}\n",
    "print(\"-\"*30)\n",
    "print(\"Welcome to my restaurent\")\n",
    "print(\"-\"*30)\n",
    "items_ordered = int(input(\"enter the how many items you want to order\"))\n",
    "orders = {}\n",
    "total_cost = 0 \n",
    "\n",
    "for i in range (items_ordered):\n",
    "    item = input(\"enter the item you want \")\n",
    "    quantity = int(input(\"enter how many quantity you want\"))\n",
    "    orders[item] = quantity\n",
    "\n",
    "for i in orders:\n",
    "    print(f\"{i:<15} {orders[i]:<15} $ {Menu[i]:<15}\")\n",
    "    total_cost += Menu[i] * orders[i]\n",
    "\n",
    "print(\"-\"*30)\n",
    "#print(f\"The total cost of your order is: {total_cost}\")\n",
    "print(f\"{'total':<5} {\"\":<25} $ {total_cost}\")\n",
    "print(\"-\"*30)\n",
    "\n"
   ]
  },
  {
   "cell_type": "markdown",
   "metadata": {},
   "source": [
    "# METHOD -2"
   ]
  },
  {
   "cell_type": "code",
   "execution_count": 16,
   "metadata": {},
   "outputs": [
    {
     "name": "stdout",
     "output_type": "stream",
     "text": [
      "--------------------------------------------------\n",
      "Welcome to my restaurent\n",
      "--------------------------------------------------\n",
      "Idli         3        100\n",
      "--------------------------------------------------\n",
      "total                 $ 300\n",
      "--------------------------------------------------\n"
     ]
    }
   ],
   "source": [
    "Menu = {\"Idli\":100, \"Pohe\":50 ,\"Dosa\":70 ,\"MeduVada\":80}\n",
    "print(\"-\"*50)\n",
    "print(\"Welcome to my restaurent\")\n",
    "print(\"-\"*50)\n",
    "items_ordered = int(input(\"enter the how many items you want to order\"))\n",
    "orders = {}\n",
    "total_cost = 0 \n",
    "\n",
    "for i in range (items_ordered):\n",
    "    item = input(\"enter the item you want \")\n",
    "    quantity = int(input(\"enter how many quantity you want\"))\n",
    "    orders[item] = quantity\n",
    "\n",
    "\n",
    "\n",
    "    if item in Menu:\n",
    "         orders[item]  = quantity\n",
    "         total_cost += Menu[item] * orders[item]\n",
    "\n",
    "         print(f\"{item:^5} {orders[item]:^15} {Menu[item]}\")\n",
    "    else:\n",
    "        print(f\"Sorry, we don't have {item} on the menu.\") \n",
    "    \n",
    "\n",
    "print(\"-\"*50)\n",
    "#print(f\"The total cost of your order is: {total_cost}\")\n",
    "print(f\"{'total':<5} {\"\":<15} $ {total_cost}\")\n",
    "print(\"-\"*50)\n",
    "\n"
   ]
  },
  {
   "cell_type": "code",
   "execution_count": null,
   "metadata": {},
   "outputs": [],
   "source": []
  },
  {
   "cell_type": "code",
   "execution_count": null,
   "metadata": {},
   "outputs": [],
   "source": []
  },
  {
   "cell_type": "code",
   "execution_count": null,
   "metadata": {},
   "outputs": [],
   "source": []
  },
  {
   "cell_type": "code",
   "execution_count": null,
   "metadata": {},
   "outputs": [],
   "source": []
  }
 ],
 "metadata": {
  "kernelspec": {
   "display_name": "Python 3",
   "language": "python",
   "name": "python3"
  },
  "language_info": {
   "codemirror_mode": {
    "name": "ipython",
    "version": 3
   },
   "file_extension": ".py",
   "mimetype": "text/x-python",
   "name": "python",
   "nbconvert_exporter": "python",
   "pygments_lexer": "ipython3",
   "version": "3.13.1"
  }
 },
 "nbformat": 4,
 "nbformat_minor": 2
}
