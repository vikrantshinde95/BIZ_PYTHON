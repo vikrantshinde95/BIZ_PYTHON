{
 "cells": [
  {
   "cell_type": "code",
   "execution_count": 18,
   "metadata": {},
   "outputs": [],
   "source": [
    "import re"
   ]
  },
  {
   "cell_type": "code",
   "execution_count": 19,
   "metadata": {},
   "outputs": [],
   "source": [
    "from itertools import compress\n",
    "\n",
    "letter = \"ABCDEF\"\n",
    "bools = (False,90,True,False,True,\"element\")"
   ]
  },
  {
   "cell_type": "code",
   "execution_count": 20,
   "metadata": {},
   "outputs": [
    {
     "data": {
      "text/plain": [
       "<itertools.compress at 0x1b862b1f640>"
      ]
     },
     "execution_count": 20,
     "metadata": {},
     "output_type": "execute_result"
    }
   ],
   "source": [
    "compress(letter,bools)"
   ]
  },
  {
   "cell_type": "code",
   "execution_count": 21,
   "metadata": {},
   "outputs": [
    {
     "data": {
      "text/plain": [
       "['B', 'C', 'E', 'F']"
      ]
     },
     "execution_count": 21,
     "metadata": {},
     "output_type": "execute_result"
    }
   ],
   "source": [
    "list(compress(letter,bools))"
   ]
  },
  {
   "cell_type": "code",
   "execution_count": 22,
   "metadata": {},
   "outputs": [
    {
     "data": {
      "text/plain": [
       "['B', 'C', 'E']"
      ]
     },
     "execution_count": 22,
     "metadata": {},
     "output_type": "execute_result"
    }
   ],
   "source": [
    "bools = (False,90,True,False,\"element\",False)\n",
    "list(compress(letter,bools))"
   ]
  },
  {
   "cell_type": "code",
   "execution_count": 23,
   "metadata": {},
   "outputs": [
    {
     "data": {
      "text/plain": [
       "[5, 7, 5, 2, 4]"
      ]
     },
     "execution_count": 23,
     "metadata": {},
     "output_type": "execute_result"
    }
   ],
   "source": [
    "from itertools import dropwhile     # where condition satisfied exclude those items , its opposite of while loop condition\n",
    "list(dropwhile(lambda x : x<5 ,[1,2,1,4,-1,5,7,5,2,4]))"
   ]
  },
  {
   "cell_type": "code",
   "execution_count": 24,
   "metadata": {},
   "outputs": [
    {
     "data": {
      "text/plain": [
       "[2, 1, 4, -1, 5, 7, 5, 2, 4, 11, 23]"
      ]
     },
     "execution_count": 24,
     "metadata": {},
     "output_type": "execute_result"
    }
   ],
   "source": [
    "list(dropwhile(lambda x : x>7 ,[11,22,2,1,4,-1,5,7,5,2,4,11,23]))"
   ]
  },
  {
   "cell_type": "code",
   "execution_count": 25,
   "metadata": {},
   "outputs": [
    {
     "data": {
      "text/plain": [
       "[1, 2, 3, 0]"
      ]
     },
     "execution_count": 25,
     "metadata": {},
     "output_type": "execute_result"
    }
   ],
   "source": [
    "from itertools import filterfalse\n",
    "\n",
    "list(filterfalse(lambda x : x > 5 ,[1,2,3,6,8,9,0]))"
   ]
  },
  {
   "cell_type": "markdown",
   "metadata": {},
   "source": [
    "### try and except"
   ]
  },
  {
   "cell_type": "code",
   "execution_count": 26,
   "metadata": {},
   "outputs": [
    {
     "name": "stdout",
     "output_type": "stream",
     "text": [
      "50\n",
      "done\n"
     ]
    }
   ],
   "source": [
    "try:\n",
    "    z = x+y\n",
    "    print(z)\n",
    "except NameError:\n",
    "    print(\"Inside except block\")\n",
    "    try:\n",
    "        x = int(input(\"enter value of x:\"))\n",
    "        y = int(input(\"enter value of y:\"))\n",
    "    except ValueError:\n",
    "        print(\"try again\")\n",
    "except TypeError:\n",
    "    print(\"check for datatype\")\n",
    "except:\n",
    "    print(\"unknown error\")\n",
    "\n",
    "finally:\n",
    "    print(\"done\")\n"
   ]
  },
  {
   "cell_type": "code",
   "execution_count": 27,
   "metadata": {},
   "outputs": [
    {
     "name": "stdout",
     "output_type": "stream",
     "text": [
      "50\n",
      "done\n"
     ]
    }
   ],
   "source": [
    "try:\n",
    "    z = x+y\n",
    "    print(z)\n",
    "except NameError:\n",
    "    print(\"Inside except block\")\n",
    "    try:\n",
    "        x = int(input(\"enter value of x:\"))\n",
    "        y = int(input(\"enter value of y:\"))\n",
    "    except ValueError:\n",
    "        print(\"try again\")\n",
    "except TypeError:\n",
    "    print(\"check for datatype\")\n",
    "except:\n",
    "    print(\"unknown error\")\n",
    "\n",
    "finally:\n",
    "    print(\"done\")"
   ]
  },
  {
   "cell_type": "code",
   "execution_count": null,
   "metadata": {},
   "outputs": [],
   "source": []
  },
  {
   "cell_type": "code",
   "execution_count": null,
   "metadata": {},
   "outputs": [],
   "source": []
  },
  {
   "cell_type": "code",
   "execution_count": null,
   "metadata": {},
   "outputs": [],
   "source": []
  }
 ],
 "metadata": {
  "kernelspec": {
   "display_name": "Python 3",
   "language": "python",
   "name": "python3"
  },
  "language_info": {
   "name": "python",
   "version": "3.13.1"
  }
 },
 "nbformat": 4,
 "nbformat_minor": 2
}
