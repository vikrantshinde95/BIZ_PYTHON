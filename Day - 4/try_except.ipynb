{
 "cells": [
  {
   "cell_type": "code",
   "execution_count": 3,
   "metadata": {},
   "outputs": [
    {
     "name": "stdout",
     "output_type": "stream",
     "text": [
      "Inside except block\n",
      "try again\n",
      "done\n"
     ]
    }
   ],
   "source": [
    "try:\n",
    "    z = x+y\n",
    "    print(z)\n",
    "except NameError:\n",
    "    print(\"Inside except block\")\n",
    "    try:\n",
    "        x = int(input(\"enter value of x:\"))\n",
    "        y = int(input(\"enter value of y:\"))\n",
    "    except ValueError:\n",
    "        print(\"try again\")\n",
    "except TypeError:\n",
    "    print(\"check for datatype\")\n",
    "except:\n",
    "    print(\"unknown error\")\n",
    "\n",
    "finally:\n",
    "    print(\"done\")"
   ]
  },
  {
   "cell_type": "code",
   "execution_count": 22,
   "metadata": {},
   "outputs": [],
   "source": [
    "import sys\n",
    "x  = int(input(\"enter values between 0 - 10 : \"))\n"
   ]
  },
  {
   "cell_type": "code",
   "execution_count": 23,
   "metadata": {},
   "outputs": [
    {
     "ename": "Exception",
     "evalue": "number should be between 0-10",
     "output_type": "error",
     "traceback": [
      "\u001b[1;31m---------------------------------------------------------------------------\u001b[0m",
      "\u001b[1;31mException\u001b[0m                                 Traceback (most recent call last)",
      "Cell \u001b[1;32mIn[23], line 4\u001b[0m\n\u001b[0;32m      2\u001b[0m     \u001b[38;5;28mprint\u001b[39m(\u001b[38;5;124m\"\u001b[39m\u001b[38;5;124mValid number\u001b[39m\u001b[38;5;124m\"\u001b[39m)\n\u001b[0;32m      3\u001b[0m \u001b[38;5;28;01melse\u001b[39;00m:\n\u001b[1;32m----> 4\u001b[0m     \u001b[38;5;28;01mraise\u001b[39;00m \u001b[38;5;167;01mException\u001b[39;00m(\u001b[38;5;124m\"\u001b[39m\u001b[38;5;124mnumber should be between 0-10\u001b[39m\u001b[38;5;124m\"\u001b[39m)\n\u001b[0;32m      5\u001b[0m \u001b[38;5;66;03m# except:\u001b[39;00m\n\u001b[0;32m      6\u001b[0m \u001b[38;5;66;03m#     print(sys.exc_info())\u001b[39;00m\n",
      "\u001b[1;31mException\u001b[0m: number should be between 0-10"
     ]
    }
   ],
   "source": [
    "if x>=0 and x<=10:\n",
    "    print(\"Valid number\")\n",
    "else:\n",
    "    raise Exception(\"number should be between 0-10\")\n",
    "# except:\n",
    "#     print(sys.exc_info())"
   ]
  },
  {
   "cell_type": "code",
   "execution_count": 21,
   "metadata": {},
   "outputs": [
    {
     "ename": "TypeError",
     "evalue": "sys.exc_info() takes no arguments (1 given)",
     "output_type": "error",
     "traceback": [
      "\u001b[1;31m---------------------------------------------------------------------------\u001b[0m",
      "\u001b[1;31mException\u001b[0m                                 Traceback (most recent call last)",
      "Cell \u001b[1;32mIn[21], line 5\u001b[0m\n\u001b[0;32m      4\u001b[0m     \u001b[38;5;28;01melse\u001b[39;00m:\n\u001b[1;32m----> 5\u001b[0m         \u001b[38;5;28;01mraise\u001b[39;00m \u001b[38;5;167;01mException\u001b[39;00m(\u001b[38;5;124m\"\u001b[39m\u001b[38;5;124mnumber should be between 0-10\u001b[39m\u001b[38;5;124m\"\u001b[39m)\n\u001b[0;32m      6\u001b[0m \u001b[38;5;28;01mexcept\u001b[39;00m:\n",
      "\u001b[1;31mException\u001b[0m: number should be between 0-10",
      "\nDuring handling of the above exception, another exception occurred:\n",
      "\u001b[1;31mTypeError\u001b[0m                                 Traceback (most recent call last)",
      "Cell \u001b[1;32mIn[21], line 7\u001b[0m\n\u001b[0;32m      5\u001b[0m         \u001b[38;5;28;01mraise\u001b[39;00m \u001b[38;5;167;01mException\u001b[39;00m(\u001b[38;5;124m\"\u001b[39m\u001b[38;5;124mnumber should be between 0-10\u001b[39m\u001b[38;5;124m\"\u001b[39m)\n\u001b[0;32m      6\u001b[0m \u001b[38;5;28;01mexcept\u001b[39;00m:\n\u001b[1;32m----> 7\u001b[0m     \u001b[38;5;28mprint\u001b[39m(\u001b[43msys\u001b[49m\u001b[38;5;241;43m.\u001b[39;49m\u001b[43mexc_info\u001b[49m\u001b[43m(\u001b[49m\u001b[38;5;241;43m1\u001b[39;49m\u001b[43m)\u001b[49m)\n",
      "\u001b[1;31mTypeError\u001b[0m: sys.exc_info() takes no arguments (1 given)"
     ]
    }
   ],
   "source": [
    "try:\n",
    "    if x>=0 and x<=10:\n",
    "        print(\"Valid number\")\n",
    "    else:\n",
    "        raise Exception(\"number should be between 0-10\")\n",
    "except:\n",
    "    print(sys.exc_info(1))"
   ]
  },
  {
   "cell_type": "code",
   "execution_count": 24,
   "metadata": {},
   "outputs": [],
   "source": [
    "import sys\n",
    "x  = int(input(\"enter values between 0 - 10 : \"))\n"
   ]
  },
  {
   "cell_type": "code",
   "execution_count": 25,
   "metadata": {},
   "outputs": [
    {
     "name": "stdout",
     "output_type": "stream",
     "text": [
      "Valid number\n"
     ]
    }
   ],
   "source": [
    "try:\n",
    "    if x>=0 and x<=10:\n",
    "        print(\"Valid number\")\n",
    "    else:\n",
    "        raise Exception(\"number should be between 0-10\")\n",
    "except:\n",
    "    print(sys.exc_info())"
   ]
  },
  {
   "cell_type": "code",
   "execution_count": 40,
   "metadata": {},
   "outputs": [
    {
     "name": "stdout",
     "output_type": "stream",
     "text": [
      "great work done\n",
      "great work done\n",
      "alphabets are not allowed here\n",
      "great work done\n",
      "alphabets are not allowed here\n",
      "great work done\n",
      "valid\n",
      "great work done\n"
     ]
    }
   ],
   "source": [
    "while True:\n",
    "    try:\n",
    "        a = int(input(\"enter the values between 0-9\"))\n",
    "        if a <= 9 and a >= 0:\n",
    "            print(\"valid\")\n",
    "            break\n",
    "        else:\n",
    "            raise Exception(\"number should be between 0-9\")\n",
    "    except TypeError:\n",
    "        print(\"type should be same\")\n",
    "    except ValueError:\n",
    "        print(\"alphabets are not allowed here\")\n",
    "    finally:\n",
    "        print(\"great work done\")"
   ]
  },
  {
   "cell_type": "code",
   "execution_count": 4,
   "metadata": {},
   "outputs": [
    {
     "name": "stdout",
     "output_type": "stream",
     "text": [
      "11\n",
      "11.0\n",
      "exception\n",
      "3\n",
      "3.0\n"
     ]
    }
   ],
   "source": [
    "import sys\n",
    "while True:\n",
    "    try:\n",
    "        n = input(\"Please enter an integer bet 1 to 9 : \")\n",
    "        print(n)\n",
    "        n = float(n)\n",
    "        print(n)\n",
    "\n",
    "        if n>9 or n<2:\n",
    "            raise Exception(\"exception\")\n",
    "        else:\n",
    "            break\n",
    "\n",
    "    except:\n",
    "        print(sys.exc_info()[1])"
   ]
  },
  {
   "cell_type": "code",
   "execution_count": 7,
   "metadata": {},
   "outputs": [
    {
     "name": "stdout",
     "output_type": "stream",
     "text": [
      "10 33\n",
      "10 33\n",
      "try again\n",
      "10 33\n",
      "10 33\n",
      "try again\n",
      "10 6\n"
     ]
    }
   ],
   "source": [
    "import sys\n",
    "class Error1(Exception):\n",
    "\n",
    "    pass\n",
    "\n",
    "class Field_error(Error1):\n",
    "\n",
    "    pass\n",
    "\n",
    "num = 10\n",
    "while True:\n",
    "    try:\n",
    "        in_no = int(input(\"enter the number\"))\n",
    "        print(num,in_no)\n",
    "\n",
    "        if in_no > num:\n",
    "            print(num,in_no)\n",
    "            raise Field_error\n",
    "        else:\n",
    "            break\n",
    "    except Field_error:\n",
    "        print(\"try again\") \n",
    "\n",
    "    except:\n",
    "        print(sys.exc_info()[1])\n",
    "        print(\"something went wrong\")\n",
    "        \n",
    "\n",
    "\n"
   ]
  },
  {
   "cell_type": "code",
   "execution_count": 16,
   "metadata": {},
   "outputs": [],
   "source": [
    "def validation_name(name):\n",
    "    try:\n",
    "        if name.isalpha():\n",
    "            print(\"Welcome \",name)\n",
    "            flg = True\n",
    "            message = \"Valid\"\n",
    "\n",
    "        else:\n",
    "            flg = False\n",
    "            raise Exception(\"only letters are allowed here\")\n",
    "    except:\n",
    "        message = \"error occured due to number\"\n",
    "        return flg,name,message\n"
   ]
  },
  {
   "cell_type": "code",
   "execution_count": 14,
   "metadata": {},
   "outputs": [],
   "source": [
    "def validation_marks(marks):\n",
    "    try:\n",
    "        if marks > 100 or marks <0:\n",
    "            print(\"marks should b e between 0 to 100\")\n",
    "            flg = True\n",
    "            msg = \"valid marks\"\n",
    "\n",
    "        else:\n",
    "            flg = False\n",
    "            raise Exception (\"only numbers are allowed here\")\n",
    "        \n",
    "    except:\n",
    "        msg = \"error occured due to alphabet\"\n",
    "        return flg,marks"
   ]
  },
  {
   "cell_type": "code",
   "execution_count": 17,
   "metadata": {},
   "outputs": [
    {
     "name": "stdout",
     "output_type": "stream",
     "text": [
      "Welcome  vikrant\n"
     ]
    }
   ],
   "source": [
    "validation_name(\"vikrant\")"
   ]
  },
  {
   "cell_type": "code",
   "execution_count": 12,
   "metadata": {},
   "outputs": [
    {
     "data": {
      "text/plain": [
       "(False, 65)"
      ]
     },
     "execution_count": 12,
     "metadata": {},
     "output_type": "execute_result"
    }
   ],
   "source": [
    "validation_marks(65)"
   ]
  },
  {
   "cell_type": "code",
   "execution_count": 18,
   "metadata": {},
   "outputs": [
    {
     "data": {
      "text/plain": [
       "(False, 'abc23', 'error occured due to number')"
      ]
     },
     "execution_count": 18,
     "metadata": {},
     "output_type": "execute_result"
    }
   ],
   "source": [
    "validation_name(\"abc23\")"
   ]
  },
  {
   "cell_type": "code",
   "execution_count": 19,
   "metadata": {},
   "outputs": [
    {
     "name": "stdout",
     "output_type": "stream",
     "text": [
      "marks should b e between 0 to 100\n"
     ]
    }
   ],
   "source": [
    "validation_marks(101)"
   ]
  },
  {
   "cell_type": "code",
   "execution_count": 20,
   "metadata": {},
   "outputs": [],
   "source": [
    "def validation_name(name):\n",
    "    try:\n",
    "        if name.isalpha():\n",
    "            print(\"Welcome \",name)\n",
    "            flg = True\n",
    "            message = \"Valid\"\n",
    "\n",
    "        else:\n",
    "            flg = False\n",
    "            raise Exception(\"only letters are allowed here\")\n",
    "    except:\n",
    "        message =sys.exc_info()[1]\n",
    "        return flg,name,message\n"
   ]
  },
  {
   "cell_type": "code",
   "execution_count": 21,
   "metadata": {},
   "outputs": [
    {
     "name": "stdout",
     "output_type": "stream",
     "text": [
      "Welcome  vikrant\n"
     ]
    }
   ],
   "source": [
    "validation_name(\"vikrant\")"
   ]
  },
  {
   "cell_type": "code",
   "execution_count": 22,
   "metadata": {},
   "outputs": [
    {
     "data": {
      "text/plain": [
       "(False, 'vikrant123', Exception('only letters are allowed here'))"
      ]
     },
     "execution_count": 22,
     "metadata": {},
     "output_type": "execute_result"
    }
   ],
   "source": [
    "validation_name(\"vikrant123\")"
   ]
  },
  {
   "cell_type": "code",
   "execution_count": null,
   "metadata": {},
   "outputs": [],
   "source": []
  }
 ],
 "metadata": {
  "kernelspec": {
   "display_name": "Python 3",
   "language": "python",
   "name": "python3"
  },
  "language_info": {
   "codemirror_mode": {
    "name": "ipython",
    "version": 3
   },
   "file_extension": ".py",
   "mimetype": "text/x-python",
   "name": "python",
   "nbconvert_exporter": "python",
   "pygments_lexer": "ipython3",
   "version": "3.13.1"
  }
 },
 "nbformat": 4,
 "nbformat_minor": 2
}
