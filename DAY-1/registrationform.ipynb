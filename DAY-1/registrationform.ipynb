{
 "cells": [
  {
   "cell_type": "markdown",
   "metadata": {},
   "source": [
    "REGISTRATION FORM"
   ]
  },
  {
   "cell_type": "code",
   "execution_count": 7,
   "metadata": {},
   "outputs": [],
   "source": [
    "def registraion():\n",
    "    for i in range(1):\n",
    "        \n",
    "        f_name  = input(\"enter the first name\")\n",
    "        l_name  = input(\"enter the last name\")\n",
    "        if f_name.isalpha() and len(f_name)>=2:\n",
    "            print(f\"Your first Name : {f_name}\")\n",
    "            return f_name.title()\n",
    "        else:\n",
    "            print(\"enter more than 1 character\")\n",
    "        l_name  = input(\"enter the last name\")\n",
    "        if l_name.isalpha() and len(l_name)>=2:\n",
    "            print(f\"Your last Name : {l_name}\")\n",
    "            return f_name.title()\n",
    "        else:\n",
    "            print(\"enter more than 1 character\")\n",
    "            \n"
   ]
  },
  {
   "cell_type": "code",
   "execution_count": 8,
   "metadata": {},
   "outputs": [
    {
     "name": "stdout",
     "output_type": "stream",
     "text": [
      "Your first Name : vikrant\n"
     ]
    }
   ],
   "source": [
    "reg = registraion()"
   ]
  },
  {
   "cell_type": "code",
   "execution_count": 26,
   "metadata": {},
   "outputs": [],
   "source": [
    "def first_name():\n",
    "    f_name = input(\"enter your first name here:\")\n",
    "    if f_name.isalpha() and len(f_name) >=2:\n",
    "        a = f_name.title()\n",
    "        print(f\"Your First name : {a}\")\n",
    "    else:\n",
    "        first_name(input(\"Enter the correct name please\"))\n",
    "\n",
    "def middle_name():\n",
    "    m_name = input(\"enter your middle name here:\")\n",
    "    if m_name.isalpha() and len(m_name)>=2:\n",
    "        b = m_name.title()\n",
    "        print(f\"your middle name is : {b}\")\n",
    "    else:\n",
    "        middle_name()\n",
    "\n",
    "def last_name():\n",
    "    l_name = input(\"enter your mlast name here:\")\n",
    "    if l_name.isalpha() and len(l_name)>=2:\n",
    "        c = l_name.title()\n",
    "        print(f\"your middle name is : {c}\")\n",
    "    else:\n",
    "        middle_name(input(\"enter the correct name please\"))\n",
    " \n"
   ]
  },
  {
   "cell_type": "code",
   "execution_count": 27,
   "metadata": {},
   "outputs": [
    {
     "name": "stdout",
     "output_type": "stream",
     "text": [
      "Your First name : Vikrant\n",
      "your middle name is : Bhagwan\n",
      "your middle name is : Shinde\n"
     ]
    }
   ],
   "source": [
    "first_name()\n",
    "middle_name()\n",
    "last_name()"
   ]
  },
  {
   "cell_type": "code",
   "execution_count": null,
   "metadata": {},
   "outputs": [],
   "source": []
  }
 ],
 "metadata": {
  "kernelspec": {
   "display_name": "Python 3",
   "language": "python",
   "name": "python3"
  },
  "language_info": {
   "codemirror_mode": {
    "name": "ipython",
    "version": 3
   },
   "file_extension": ".py",
   "mimetype": "text/x-python",
   "name": "python",
   "nbconvert_exporter": "python",
   "pygments_lexer": "ipython3",
   "version": "3.13.1"
  }
 },
 "nbformat": 4,
 "nbformat_minor": 2
}
