{
 "cells": [
  {
   "cell_type": "markdown",
   "metadata": {},
   "source": [
    "REGISTRATION FORM"
   ]
  },
  {
   "cell_type": "code",
   "execution_count": 5,
   "metadata": {},
   "outputs": [],
   "source": [
    "F_name = input(\"enter your first name\")\n",
    "L_name = input(\"enter your last name\")"
   ]
  },
  {
   "cell_type": "code",
   "execution_count": 6,
   "metadata": {},
   "outputs": [],
   "source": [
    "def registraion():\n",
    "    for i in range(2):\n",
    "        if F_name.isalpha():\n",
    "            print(\"Valid name\")\n",
    "        else:\n",
    "            print(\"enter only characters\")\n",
    "        "
   ]
  },
  {
   "cell_type": "code",
   "execution_count": 8,
   "metadata": {},
   "outputs": [
    {
     "name": "stdout",
     "output_type": "stream",
     "text": [
      "Valid name\n",
      "Valid name\n"
     ]
    }
   ],
   "source": [
    "reg = registraion()\n",
    "reg"
   ]
  },
  {
   "cell_type": "code",
   "execution_count": 15,
   "metadata": {},
   "outputs": [],
   "source": [
    "def registraion():\n",
    "    for i in range(1):\n",
    "        f_name  = input(\"enter the first name\")\n",
    "        if f_name.isalpha() and len(f_name)>=2:\n",
    "            print(\"valid name\")\n",
    "        else:\n",
    "            print(\"enter more than 1 character\")\n",
    "        l_name  = input(\"enter the last name\")\n",
    "        if l_name.isalpha() and len(l_name)>=2:\n",
    "            print(\"valid name\")\n",
    "        else:\n",
    "            print(\"enter more than 1 character\")\n",
    "            \n"
   ]
  },
  {
   "cell_type": "code",
   "execution_count": 16,
   "metadata": {},
   "outputs": [
    {
     "name": "stdout",
     "output_type": "stream",
     "text": [
      "valid name\n",
      "valid name\n"
     ]
    }
   ],
   "source": [
    "reg = registraion()"
   ]
  },
  {
   "cell_type": "code",
   "execution_count": null,
   "metadata": {},
   "outputs": [],
   "source": []
  }
 ],
 "metadata": {
  "kernelspec": {
   "display_name": "Python 3",
   "language": "python",
   "name": "python3"
  },
  "language_info": {
   "codemirror_mode": {
    "name": "ipython",
    "version": 3
   },
   "file_extension": ".py",
   "mimetype": "text/x-python",
   "name": "python",
   "nbconvert_exporter": "python",
   "pygments_lexer": "ipython3",
   "version": "3.13.1"
  }
 },
 "nbformat": 4,
 "nbformat_minor": 2
}
