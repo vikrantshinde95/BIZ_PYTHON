{
 "cells": [
  {
   "cell_type": "code",
   "execution_count": 77,
   "metadata": {},
   "outputs": [],
   "source": [
    "import datetime "
   ]
  },
  {
   "cell_type": "markdown",
   "metadata": {},
   "source": [
    "# taking input from user \n",
    "# converting the string input into datetime format"
   ]
  },
  {
   "cell_type": "code",
   "execution_count": 78,
   "metadata": {},
   "outputs": [
    {
     "name": "stdout",
     "output_type": "stream",
     "text": [
      "2025-01-08 00:00:00\n",
      "2025-01-13 00:00:00\n"
     ]
    }
   ],
   "source": [
    "start_date = input(\"enter the date in format yyyy-mm-dd\")\n",
    "\n",
    "end_date = input(\"enter the date in fomrat yyyy-mm-dd\")\n",
    "\n",
    "s_date = datetime.datetime.strptime(start_date,'%Y-%m-%d')\n",
    "e_date = datetime.datetime.strptime(end_date,'%Y-%m-%d')\n",
    "\n",
    "print(s_date)\n",
    "print(e_date)\n",
    "\n"
   ]
  },
  {
   "cell_type": "markdown",
   "metadata": {},
   "source": [
    "# taking difference from date to calculate no of days"
   ]
  },
  {
   "cell_type": "code",
   "execution_count": 79,
   "metadata": {},
   "outputs": [
    {
     "data": {
      "text/plain": [
       "5"
      ]
     },
     "execution_count": 79,
     "metadata": {},
     "output_type": "execute_result"
    }
   ],
   "source": [
    "diff = (e_date-s_date).days\n",
    "diff"
   ]
  },
  {
   "cell_type": "code",
   "execution_count": null,
   "metadata": {},
   "outputs": [],
   "source": [
    "# list to save the key values for dict for frmkeys()"
   ]
  },
  {
   "cell_type": "code",
   "execution_count": 81,
   "metadata": {},
   "outputs": [],
   "source": [
    "l1 = []"
   ]
  },
  {
   "cell_type": "code",
   "execution_count": null,
   "metadata": {},
   "outputs": [],
   "source": [
    "# time delta to increament dates"
   ]
  },
  {
   "cell_type": "code",
   "execution_count": 82,
   "metadata": {},
   "outputs": [],
   "source": [
    "for i in range (diff):\n",
    "    # print(s_date.strftime('%a'))\n",
    "    s_date = s_date + datetime.timedelta(days=1)\n",
    "    l1.append(s_date.strftime('%a'))\n",
    "    "
   ]
  },
  {
   "cell_type": "code",
   "execution_count": null,
   "metadata": {},
   "outputs": [],
   "source": [
    "# fromkeys used to create dict with list items as keys \n",
    "# if statement discards sat amd sun "
   ]
  },
  {
   "cell_type": "code",
   "execution_count": 87,
   "metadata": {},
   "outputs": [],
   "source": [
    "\n",
    "d2 = dict.fromkeys(l1)\n",
    "t1 = []\n",
    "for i in l1:\n",
    "    if(i not in ['Sat',\"Sun\"]):\n",
    "        d2[i] = input(f\"enter the task for {i}\")\n"
   ]
  },
  {
   "cell_type": "code",
   "execution_count": 90,
   "metadata": {},
   "outputs": [
    {
     "data": {
      "text/plain": [
       "{'Thu': 'hi', 'Fri': 'bi', 'Sat': None, 'Sun': None, 'Mon': 'new'}"
      ]
     },
     "execution_count": 90,
     "metadata": {},
     "output_type": "execute_result"
    }
   ],
   "source": [
    "d2"
   ]
  }
 ],
 "metadata": {
  "kernelspec": {
   "display_name": "Python 3",
   "language": "python",
   "name": "python3"
  },
  "language_info": {
   "codemirror_mode": {
    "name": "ipython",
    "version": 3
   },
   "file_extension": ".py",
   "mimetype": "text/x-python",
   "name": "python",
   "nbconvert_exporter": "python",
   "pygments_lexer": "ipython3",
   "version": "3.12.1"
  }
 },
 "nbformat": 4,
 "nbformat_minor": 2
}
