{
 "cells": [
  {
   "cell_type": "code",
   "execution_count": null,
   "metadata": {},
   "outputs": [],
   "source": []
  },
  {
   "cell_type": "code",
   "execution_count": 4,
   "metadata": {},
   "outputs": [
    {
     "name": "stdout",
     "output_type": "stream",
     "text": [
      "['2024-05-01-Wed', '2024-05-02-Thu', '2024-05-03-Fri', '2024-05-06-Mon', '2024-05-07-Tue', '2024-05-08-Wed', '2024-05-09-Thu', '2024-05-10-Fri']\n",
      "['a', 'b', 'c', 'd', 'e', 'f', 'g', 'h']\n"
     ]
    },
    {
     "data": {
      "text/plain": [
       "{'2024-05-01-Wed': 'a',\n",
       " '2024-05-02-Thu': 'b',\n",
       " '2024-05-03-Fri': 'c',\n",
       " '2024-05-06-Mon': 'd',\n",
       " '2024-05-07-Tue': 'e',\n",
       " '2024-05-08-Wed': 'f',\n",
       " '2024-05-09-Thu': 'g',\n",
       " '2024-05-10-Fri': 'h'}"
      ]
     },
     "execution_count": 4,
     "metadata": {},
     "output_type": "execute_result"
    }
   ],
   "source": [
    "from datetime import datetime\n",
    "from datetime import time\n",
    "from datetime import date\n",
    "from datetime import timedelta\n",
    "\n",
    "start_date = input(\"enter start date:\")\n",
    "end_date = input(\"enter end date:\")\n",
    "s_date = datetime.strptime(start_date,\"%Y-%m-%d\")\n",
    "\n",
    "e_date = datetime.strptime(end_date,\"%Y-%m-%d\")\n",
    "\n",
    "\n",
    "diff = (e_date - s_date).days\n",
    "# diff\n",
    "\n",
    "all_task = []\n",
    "all_days = []\n",
    "\n",
    "for i in range(diff + 1):\n",
    "    current_date = s_date + timedelta(days=i)\n",
    "    day = current_date.strftime(\"%A\")\n",
    "    if day not in ['Saturday','Sunday']:\n",
    "        all_days.append(current_date.strftime(\"%Y-%m-%d-%a\"))\n",
    "        task = input(\"enter task for each day\")\n",
    "        all_task.append(task)\n",
    "\n",
    "print(all_days)\n",
    "print(all_task)\n",
    "\n",
    "dict(zip(all_days, all_task))"
   ]
  },
  {
   "cell_type": "code",
   "execution_count": null,
   "metadata": {},
   "outputs": [],
   "source": []
  }
 ],
 "metadata": {
  "kernelspec": {
   "display_name": "Python 3",
   "language": "python",
   "name": "python3"
  },
  "language_info": {
   "codemirror_mode": {
    "name": "ipython",
    "version": 3
   },
   "file_extension": ".py",
   "mimetype": "text/x-python",
   "name": "python",
   "nbconvert_exporter": "python",
   "pygments_lexer": "ipython3",
   "version": "3.13.1"
  }
 },
 "nbformat": 4,
 "nbformat_minor": 2
}
